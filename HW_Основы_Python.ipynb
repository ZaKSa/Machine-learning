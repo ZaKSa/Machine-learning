{
  "cells": [
    {
      "cell_type": "markdown",
      "metadata": {
        "id": "view-in-github",
        "colab_type": "text"
      },
      "source": [
        "<a href=\"https://colab.research.google.com/github/ZaKSa/Machine-learning/blob/main/HW_%D0%9E%D1%81%D0%BD%D0%BE%D0%B2%D1%8B_Python.ipynb\" target=\"_parent\"><img src=\"https://colab.research.google.com/assets/colab-badge.svg\" alt=\"Open In Colab\"/></a>"
      ]
    },
    {
      "cell_type": "markdown",
      "id": "6b5fd127",
      "metadata": {
        "id": "6b5fd127"
      },
      "source": [
        "# Python"
      ]
    },
    {
      "cell_type": "markdown",
      "id": "ce6cd4d0",
      "metadata": {
        "id": "ce6cd4d0"
      },
      "source": [
        "**Задание 1 (1 балл)**\n",
        "\n",
        "Напишите функцию, которая принимает радиус круга от пользователя и вычисляет площадь круга. Чилсо π=3.14"
      ]
    },
    {
      "cell_type": "code",
      "execution_count": null,
      "id": "631d0da5",
      "metadata": {
        "id": "631d0da5"
      },
      "outputs": [],
      "source": [
        "import math\n",
        "def square(r):\n",
        "    S = 3.14*r**2\n",
        "    return S"
      ]
    },
    {
      "cell_type": "code",
      "execution_count": null,
      "id": "587bffea",
      "metadata": {
        "id": "587bffea"
      },
      "outputs": [],
      "source": [
        "assert square(2) == 12.56"
      ]
    },
    {
      "cell_type": "markdown",
      "id": "eff890b9",
      "metadata": {
        "id": "eff890b9"
      },
      "source": [
        "**Задание 2 (2 балла)**\n",
        "\n",
        "Напишите функцию для расчета индекса массы тела (ИМТ). ИМТ рассчитывается с помощью веса и роста человека, используя формулу: вес / рост²\n",
        " \n",
        "Функция должна возвращать одну из следующих категорий: \n",
        "- Underweight = меньше 18.5 \n",
        "- Normal = больше или равно 18.5 и меньше 25 \n",
        "- Overweight = больше или равно 25 и меньше 30 \n",
        "- Obesity = 30 и больше \n",
        "\n",
        "Используйте условные операторы `if ... elif...else`"
      ]
    },
    {
      "cell_type": "code",
      "execution_count": null,
      "id": "c378dce2",
      "metadata": {
        "id": "c378dce2"
      },
      "outputs": [],
      "source": [
        "def bmi_calc(height, weight):\n",
        "    bmi = weight/(height**2)\n",
        "    result='Obesity'\n",
        "    if (bmi<18.5):\n",
        "      result='Underweight'\n",
        "    elif (bmi>=18.5 and bmi<25):\n",
        "      result='Normal'\n",
        "    elif (bmi>=25 and bmi<30):\n",
        "      result='Overweight'\n",
        "    return result"
      ]
    },
    {
      "cell_type": "code",
      "execution_count": null,
      "id": "e7ee9526",
      "metadata": {
        "id": "e7ee9526"
      },
      "outputs": [],
      "source": [
        "assert bmi_calc(1.9, 85) == 'Normal'\n",
        "assert bmi_calc(1.7, 50) == 'Underweight'\n",
        "assert bmi_calc(1.55, 70) == 'Overweight'\n",
        "assert bmi_calc(1.6, 100) == 'Obesity'"
      ]
    },
    {
      "cell_type": "markdown",
      "id": "ae58de87",
      "metadata": {
        "id": "ae58de87"
      },
      "source": [
        "**Задание 3 (1 балл)**\n",
        "\n",
        "Напишите цикл, который печатает все числа от 0 до 100, кроме кратных 10."
      ]
    },
    {
      "cell_type": "code",
      "execution_count": null,
      "id": "45c1972f",
      "metadata": {
        "colab": {
          "base_uri": "https://localhost:8080/"
        },
        "id": "45c1972f",
        "outputId": "2c492723-f730-4e4f-a6a3-6a63c9f3a6a8"
      },
      "outputs": [
        {
          "output_type": "stream",
          "name": "stdout",
          "text": [
            "1\n",
            "2\n",
            "3\n",
            "4\n",
            "5\n",
            "6\n",
            "7\n",
            "8\n",
            "9\n",
            "11\n",
            "12\n",
            "13\n",
            "14\n",
            "15\n",
            "16\n",
            "17\n",
            "18\n",
            "19\n",
            "21\n",
            "22\n",
            "23\n",
            "24\n",
            "25\n",
            "26\n",
            "27\n",
            "28\n",
            "29\n",
            "31\n",
            "32\n",
            "33\n",
            "34\n",
            "35\n",
            "36\n",
            "37\n",
            "38\n",
            "39\n",
            "41\n",
            "42\n",
            "43\n",
            "44\n",
            "45\n",
            "46\n",
            "47\n",
            "48\n",
            "49\n",
            "51\n",
            "52\n",
            "53\n",
            "54\n",
            "55\n",
            "56\n",
            "57\n",
            "58\n",
            "59\n",
            "61\n",
            "62\n",
            "63\n",
            "64\n",
            "65\n",
            "66\n",
            "67\n",
            "68\n",
            "69\n",
            "71\n",
            "72\n",
            "73\n",
            "74\n",
            "75\n",
            "76\n",
            "77\n",
            "78\n",
            "79\n",
            "81\n",
            "82\n",
            "83\n",
            "84\n",
            "85\n",
            "86\n",
            "87\n",
            "88\n",
            "89\n",
            "91\n",
            "92\n",
            "93\n",
            "94\n",
            "95\n",
            "96\n",
            "97\n",
            "98\n",
            "99\n"
          ]
        }
      ],
      "source": [
        "for i in range(101):\n",
        "  if (i%10):\n",
        "    print(i)"
      ]
    },
    {
      "cell_type": "markdown",
      "id": "e31ada62",
      "metadata": {
        "id": "e31ada62"
      },
      "source": [
        "**Задание 4 (2 балла)**\n",
        "\n",
        "Напишите функцию, которая принимает целое число, представляющее месяц, и возвращает сезон для этого месяца. Если число $ \\notin [1,12]$, то возвращается сообщение об ошибке"
      ]
    },
    {
      "cell_type": "code",
      "execution_count": null,
      "id": "6dda61c2",
      "metadata": {
        "id": "6dda61c2"
      },
      "outputs": [],
      "source": [
        "def season(month):\n",
        "  result = 'error'\n",
        "  if (month >=1 and month <3 or month == 12):\n",
        "    result='winter'\n",
        "  elif (month >=3 and month <6):\n",
        "    result='spring'\n",
        "  elif (month >=6 and month <9):\n",
        "    result='summer'\n",
        "  elif (month >=9 and month <12):\n",
        "    result='autumn'\n",
        "  return result"
      ]
    },
    {
      "cell_type": "code",
      "execution_count": null,
      "id": "02861d63",
      "metadata": {
        "id": "02861d63"
      },
      "outputs": [],
      "source": [
        "assert season(12) == 'winter'\n",
        "assert season(4) == 'spring'\n",
        "assert season(6) == 'summer'\n",
        "assert season(9) == 'autumn'\n",
        "assert season(78) == 'error'"
      ]
    },
    {
      "cell_type": "markdown",
      "id": "168a1f86",
      "metadata": {
        "id": "168a1f86"
      },
      "source": [
        "**Задание 5 (1 балл)**\n",
        "\n",
        "Напишите функцию, которая возвращает сумму всех элементов списка"
      ]
    },
    {
      "cell_type": "code",
      "execution_count": null,
      "id": "1e8d4dd4",
      "metadata": {
        "id": "1e8d4dd4"
      },
      "outputs": [],
      "source": [
        "def sum_list(l):\n",
        "    sum=0\n",
        "    for i in l:\n",
        "      sum+=i\n",
        "    return sum"
      ]
    },
    {
      "cell_type": "code",
      "execution_count": null,
      "id": "54a8fa96",
      "metadata": {
        "id": "54a8fa96"
      },
      "outputs": [],
      "source": [
        "assert sum_list([1,2,3,4,5,6,7,8,9,10]) == 55\n",
        "assert sum_list([1,-53,-85,76,88,99,-100]) == 26"
      ]
    },
    {
      "cell_type": "markdown",
      "id": "37c133fd",
      "metadata": {
        "ExecuteTime": {
          "end_time": "2023-04-07T14:52:08.747829Z",
          "start_time": "2023-04-07T14:52:08.735163Z"
        },
        "id": "37c133fd"
      },
      "source": [
        "**Задание 6 (3 балла)**\n",
        "\n",
        "Напишите функцию для проверки правильности пароля. Функция возвращает `True`, если пароль правильный, и `False`, если пароль неправильный\n",
        "\n",
        "Функция осуществляет следующие проверки: \n",
        " \n",
        "- Как минимум 1 буква между [az] и 1 буква между [AZ]. \n",
        "- Как минимум 1 число между [0-9]. \n",
        "- Как минимум 1 символ из [$ # @]. \n",
        "- Минимальная длина 6 символов. \n",
        "- Максимальная длина 16 символов."
      ]
    },
    {
      "cell_type": "code",
      "execution_count": null,
      "id": "04bdea28",
      "metadata": {
        "id": "04bdea28"
      },
      "outputs": [],
      "source": [
        "import numpy as np\n",
        "def check_pass(password):\n",
        "    symbols= ['$', '#', '@']\n",
        "    count=np.zeros((5, 1))\n",
        "    for ch in password:\n",
        "      if (ch>'a' and ch<'z'):\n",
        "        count[0]+=1\n",
        "      if (ch>'A' and ch<'Z'):\n",
        "        count[1]+=1\n",
        "      if (ch.isdigit()):\n",
        "        count[2]+=1\n",
        "      if (ch in symbols):\n",
        "        count[3]+=1\n",
        "    if len(password)<=16 and len(password)>=6:\n",
        "      count[4]+=1\n",
        "    flag=0\n",
        "    for el in count:\n",
        "      if el>0:\n",
        "        flag+=1\n",
        "    return flag==5\n"
      ]
    },
    {
      "cell_type": "code",
      "source": [
        "check_pass('@this34password')"
      ],
      "metadata": {
        "colab": {
          "base_uri": "https://localhost:8080/"
        },
        "id": "j7PC6Gqw08KW",
        "outputId": "ed042ed6-5f46-47fb-abe2-2d9a5065d839"
      },
      "id": "j7PC6Gqw08KW",
      "execution_count": null,
      "outputs": [
        {
          "output_type": "execute_result",
          "data": {
            "text/plain": [
              "False"
            ]
          },
          "metadata": {},
          "execution_count": 35
        }
      ]
    },
    {
      "cell_type": "code",
      "execution_count": null,
      "id": "4fb67fa7",
      "metadata": {
        "ExecuteTime": {
          "end_time": "2023-04-07T14:55:05.921025Z",
          "start_time": "2023-04-07T14:55:05.913394Z"
        },
        "id": "4fb67fa7"
      },
      "outputs": [],
      "source": [
        "assert check_pass('gThj1$')\n",
        "assert not check_pass('@this34password') #ТУТ не хватает заглавной буквы, по условию должна быть одна маленькая и одна большая. \n",
        "#Если делать для такого теста, то исправить два if на if (ch>'a' and ch<'z' or ch>'A' and ch<'Z'): и соотвественно сравнивать с 4 условиями, а не 5\n",
        "assert not check_pass('aaaaaa7')\n",
        "assert not check_pass('aaaaaaaaaaaaaaaaaaaaaaaaaaaaaaaaaaaaaaaa')\n",
        "assert not check_pass('666666')\n",
        "assert not check_pass('sp')"
      ]
    },
    {
      "cell_type": "markdown",
      "source": [
        "Второй способ для теста"
      ],
      "metadata": {
        "id": "MAZiyoLH4NWy"
      },
      "id": "MAZiyoLH4NWy"
    },
    {
      "cell_type": "code",
      "source": [
        "import numpy as np\n",
        "def check_pass(password):\n",
        "    symbols= ['$', '#', '@']\n",
        "    count=np.zeros((5, 1))\n",
        "    for ch in password:\n",
        "      if (ch>'a' and ch<'z' or ch>'A' and ch<'Z'):\n",
        "        count[0]+=1\n",
        "      if (ch.isdigit()):\n",
        "        count[1]+=1\n",
        "      if (ch in symbols):\n",
        "        count[2]+=1\n",
        "    if len(password)<=16 and len(password)>=6:\n",
        "      count[3]+=1\n",
        "    flag=0\n",
        "    for el in count:\n",
        "      if el>0:\n",
        "        flag+=1\n",
        "    return flag==4\n"
      ],
      "metadata": {
        "id": "NQ5xKsIK4Cm7"
      },
      "id": "NQ5xKsIK4Cm7",
      "execution_count": null,
      "outputs": []
    },
    {
      "cell_type": "code",
      "source": [
        "assert check_pass('gThj1$')\n",
        "assert check_pass('@this34password')\n",
        "assert not check_pass('aaaaaa7')\n",
        "assert not check_pass('aaaaaaaaaaaaaaaaaaaaaaaaaaaaaaaaaaaaaaaa')\n",
        "assert not check_pass('666666')\n",
        "assert not check_pass('sp')"
      ],
      "metadata": {
        "id": "7SjJh9qz4JdL"
      },
      "id": "7SjJh9qz4JdL",
      "execution_count": null,
      "outputs": []
    },
    {
      "cell_type": "markdown",
      "id": "a7467344",
      "metadata": {
        "id": "a7467344"
      },
      "source": [
        "# Pandas"
      ]
    },
    {
      "cell_type": "code",
      "execution_count": null,
      "id": "8c6fc655",
      "metadata": {
        "ExecuteTime": {
          "end_time": "2023-04-07T12:03:31.061112Z",
          "start_time": "2023-04-07T12:03:30.113068Z"
        },
        "id": "8c6fc655"
      },
      "outputs": [],
      "source": [
        "import pandas as pd "
      ]
    },
    {
      "cell_type": "code",
      "execution_count": null,
      "id": "e00b679f",
      "metadata": {
        "ExecuteTime": {
          "end_time": "2023-04-07T12:58:17.748142Z",
          "start_time": "2023-04-07T12:58:17.535336Z"
        },
        "id": "e00b679f"
      },
      "outputs": [],
      "source": [
        "df = pd.read_csv('/content/sample_data/Airline Passenger Satisfaction.csv', index_col=0)"
      ]
    },
    {
      "cell_type": "code",
      "execution_count": null,
      "id": "83cfe647",
      "metadata": {
        "ExecuteTime": {
          "end_time": "2023-04-07T12:58:18.553727Z",
          "start_time": "2023-04-07T12:58:18.512904Z"
        },
        "id": "83cfe647",
        "colab": {
          "base_uri": "https://localhost:8080/",
          "height": 438
        },
        "outputId": "f6355ff9-e33a-4b29-cf19-7486e1a04808"
      },
      "outputs": [
        {
          "output_type": "execute_result",
          "data": {
            "text/plain": [
              "       id  Gender      Customer Type  Age   Type of Travel     Class  \\\n",
              "0   70172    Male     Loyal Customer   13  Personal Travel  Eco Plus   \n",
              "1    5047    Male  disloyal Customer   25  Business travel  Business   \n",
              "2  110028  Female     Loyal Customer   26  Business travel  Business   \n",
              "3   24026  Female     Loyal Customer   25  Business travel  Business   \n",
              "4  119299    Male     Loyal Customer   61  Business travel  Business   \n",
              "\n",
              "   Flight Distance  Inflight wifi service  Departure/Arrival time convenient  \\\n",
              "0              460                      3                                  4   \n",
              "1              235                      3                                  2   \n",
              "2             1142                      2                                  2   \n",
              "3              562                      2                                  5   \n",
              "4              214                      3                                  3   \n",
              "\n",
              "   Ease of Online booking  ...  Inflight entertainment  On-board service  \\\n",
              "0                       3  ...                       5                 4   \n",
              "1                       3  ...                       1                 1   \n",
              "2                       2  ...                       5                 4   \n",
              "3                       5  ...                       2                 2   \n",
              "4                       3  ...                       3                 3   \n",
              "\n",
              "   Leg room service  Baggage handling  Checkin service  Inflight service  \\\n",
              "0                 3                 4                4                 5   \n",
              "1                 5                 3                1                 4   \n",
              "2                 3                 4                4                 4   \n",
              "3                 5                 3                1                 4   \n",
              "4                 4                 4                3                 3   \n",
              "\n",
              "   Cleanliness  Departure Delay in Minutes  Arrival Delay in Minutes  \\\n",
              "0            5                          25                      18.0   \n",
              "1            1                           1                       6.0   \n",
              "2            5                           0                       0.0   \n",
              "3            2                          11                       9.0   \n",
              "4            3                           0                       0.0   \n",
              "\n",
              "              satisfaction  \n",
              "0  neutral or dissatisfied  \n",
              "1  neutral or dissatisfied  \n",
              "2                satisfied  \n",
              "3  neutral or dissatisfied  \n",
              "4                satisfied  \n",
              "\n",
              "[5 rows x 24 columns]"
            ],
            "text/html": [
              "\n",
              "  <div id=\"df-3f4e808a-675a-4b02-95c2-f25f0a48d0f6\">\n",
              "    <div class=\"colab-df-container\">\n",
              "      <div>\n",
              "<style scoped>\n",
              "    .dataframe tbody tr th:only-of-type {\n",
              "        vertical-align: middle;\n",
              "    }\n",
              "\n",
              "    .dataframe tbody tr th {\n",
              "        vertical-align: top;\n",
              "    }\n",
              "\n",
              "    .dataframe thead th {\n",
              "        text-align: right;\n",
              "    }\n",
              "</style>\n",
              "<table border=\"1\" class=\"dataframe\">\n",
              "  <thead>\n",
              "    <tr style=\"text-align: right;\">\n",
              "      <th></th>\n",
              "      <th>id</th>\n",
              "      <th>Gender</th>\n",
              "      <th>Customer Type</th>\n",
              "      <th>Age</th>\n",
              "      <th>Type of Travel</th>\n",
              "      <th>Class</th>\n",
              "      <th>Flight Distance</th>\n",
              "      <th>Inflight wifi service</th>\n",
              "      <th>Departure/Arrival time convenient</th>\n",
              "      <th>Ease of Online booking</th>\n",
              "      <th>...</th>\n",
              "      <th>Inflight entertainment</th>\n",
              "      <th>On-board service</th>\n",
              "      <th>Leg room service</th>\n",
              "      <th>Baggage handling</th>\n",
              "      <th>Checkin service</th>\n",
              "      <th>Inflight service</th>\n",
              "      <th>Cleanliness</th>\n",
              "      <th>Departure Delay in Minutes</th>\n",
              "      <th>Arrival Delay in Minutes</th>\n",
              "      <th>satisfaction</th>\n",
              "    </tr>\n",
              "  </thead>\n",
              "  <tbody>\n",
              "    <tr>\n",
              "      <th>0</th>\n",
              "      <td>70172</td>\n",
              "      <td>Male</td>\n",
              "      <td>Loyal Customer</td>\n",
              "      <td>13</td>\n",
              "      <td>Personal Travel</td>\n",
              "      <td>Eco Plus</td>\n",
              "      <td>460</td>\n",
              "      <td>3</td>\n",
              "      <td>4</td>\n",
              "      <td>3</td>\n",
              "      <td>...</td>\n",
              "      <td>5</td>\n",
              "      <td>4</td>\n",
              "      <td>3</td>\n",
              "      <td>4</td>\n",
              "      <td>4</td>\n",
              "      <td>5</td>\n",
              "      <td>5</td>\n",
              "      <td>25</td>\n",
              "      <td>18.0</td>\n",
              "      <td>neutral or dissatisfied</td>\n",
              "    </tr>\n",
              "    <tr>\n",
              "      <th>1</th>\n",
              "      <td>5047</td>\n",
              "      <td>Male</td>\n",
              "      <td>disloyal Customer</td>\n",
              "      <td>25</td>\n",
              "      <td>Business travel</td>\n",
              "      <td>Business</td>\n",
              "      <td>235</td>\n",
              "      <td>3</td>\n",
              "      <td>2</td>\n",
              "      <td>3</td>\n",
              "      <td>...</td>\n",
              "      <td>1</td>\n",
              "      <td>1</td>\n",
              "      <td>5</td>\n",
              "      <td>3</td>\n",
              "      <td>1</td>\n",
              "      <td>4</td>\n",
              "      <td>1</td>\n",
              "      <td>1</td>\n",
              "      <td>6.0</td>\n",
              "      <td>neutral or dissatisfied</td>\n",
              "    </tr>\n",
              "    <tr>\n",
              "      <th>2</th>\n",
              "      <td>110028</td>\n",
              "      <td>Female</td>\n",
              "      <td>Loyal Customer</td>\n",
              "      <td>26</td>\n",
              "      <td>Business travel</td>\n",
              "      <td>Business</td>\n",
              "      <td>1142</td>\n",
              "      <td>2</td>\n",
              "      <td>2</td>\n",
              "      <td>2</td>\n",
              "      <td>...</td>\n",
              "      <td>5</td>\n",
              "      <td>4</td>\n",
              "      <td>3</td>\n",
              "      <td>4</td>\n",
              "      <td>4</td>\n",
              "      <td>4</td>\n",
              "      <td>5</td>\n",
              "      <td>0</td>\n",
              "      <td>0.0</td>\n",
              "      <td>satisfied</td>\n",
              "    </tr>\n",
              "    <tr>\n",
              "      <th>3</th>\n",
              "      <td>24026</td>\n",
              "      <td>Female</td>\n",
              "      <td>Loyal Customer</td>\n",
              "      <td>25</td>\n",
              "      <td>Business travel</td>\n",
              "      <td>Business</td>\n",
              "      <td>562</td>\n",
              "      <td>2</td>\n",
              "      <td>5</td>\n",
              "      <td>5</td>\n",
              "      <td>...</td>\n",
              "      <td>2</td>\n",
              "      <td>2</td>\n",
              "      <td>5</td>\n",
              "      <td>3</td>\n",
              "      <td>1</td>\n",
              "      <td>4</td>\n",
              "      <td>2</td>\n",
              "      <td>11</td>\n",
              "      <td>9.0</td>\n",
              "      <td>neutral or dissatisfied</td>\n",
              "    </tr>\n",
              "    <tr>\n",
              "      <th>4</th>\n",
              "      <td>119299</td>\n",
              "      <td>Male</td>\n",
              "      <td>Loyal Customer</td>\n",
              "      <td>61</td>\n",
              "      <td>Business travel</td>\n",
              "      <td>Business</td>\n",
              "      <td>214</td>\n",
              "      <td>3</td>\n",
              "      <td>3</td>\n",
              "      <td>3</td>\n",
              "      <td>...</td>\n",
              "      <td>3</td>\n",
              "      <td>3</td>\n",
              "      <td>4</td>\n",
              "      <td>4</td>\n",
              "      <td>3</td>\n",
              "      <td>3</td>\n",
              "      <td>3</td>\n",
              "      <td>0</td>\n",
              "      <td>0.0</td>\n",
              "      <td>satisfied</td>\n",
              "    </tr>\n",
              "  </tbody>\n",
              "</table>\n",
              "<p>5 rows × 24 columns</p>\n",
              "</div>\n",
              "      <button class=\"colab-df-convert\" onclick=\"convertToInteractive('df-3f4e808a-675a-4b02-95c2-f25f0a48d0f6')\"\n",
              "              title=\"Convert this dataframe to an interactive table.\"\n",
              "              style=\"display:none;\">\n",
              "        \n",
              "  <svg xmlns=\"http://www.w3.org/2000/svg\" height=\"24px\"viewBox=\"0 0 24 24\"\n",
              "       width=\"24px\">\n",
              "    <path d=\"M0 0h24v24H0V0z\" fill=\"none\"/>\n",
              "    <path d=\"M18.56 5.44l.94 2.06.94-2.06 2.06-.94-2.06-.94-.94-2.06-.94 2.06-2.06.94zm-11 1L8.5 8.5l.94-2.06 2.06-.94-2.06-.94L8.5 2.5l-.94 2.06-2.06.94zm10 10l.94 2.06.94-2.06 2.06-.94-2.06-.94-.94-2.06-.94 2.06-2.06.94z\"/><path d=\"M17.41 7.96l-1.37-1.37c-.4-.4-.92-.59-1.43-.59-.52 0-1.04.2-1.43.59L10.3 9.45l-7.72 7.72c-.78.78-.78 2.05 0 2.83L4 21.41c.39.39.9.59 1.41.59.51 0 1.02-.2 1.41-.59l7.78-7.78 2.81-2.81c.8-.78.8-2.07 0-2.86zM5.41 20L4 18.59l7.72-7.72 1.47 1.35L5.41 20z\"/>\n",
              "  </svg>\n",
              "      </button>\n",
              "      \n",
              "  <style>\n",
              "    .colab-df-container {\n",
              "      display:flex;\n",
              "      flex-wrap:wrap;\n",
              "      gap: 12px;\n",
              "    }\n",
              "\n",
              "    .colab-df-convert {\n",
              "      background-color: #E8F0FE;\n",
              "      border: none;\n",
              "      border-radius: 50%;\n",
              "      cursor: pointer;\n",
              "      display: none;\n",
              "      fill: #1967D2;\n",
              "      height: 32px;\n",
              "      padding: 0 0 0 0;\n",
              "      width: 32px;\n",
              "    }\n",
              "\n",
              "    .colab-df-convert:hover {\n",
              "      background-color: #E2EBFA;\n",
              "      box-shadow: 0px 1px 2px rgba(60, 64, 67, 0.3), 0px 1px 3px 1px rgba(60, 64, 67, 0.15);\n",
              "      fill: #174EA6;\n",
              "    }\n",
              "\n",
              "    [theme=dark] .colab-df-convert {\n",
              "      background-color: #3B4455;\n",
              "      fill: #D2E3FC;\n",
              "    }\n",
              "\n",
              "    [theme=dark] .colab-df-convert:hover {\n",
              "      background-color: #434B5C;\n",
              "      box-shadow: 0px 1px 3px 1px rgba(0, 0, 0, 0.15);\n",
              "      filter: drop-shadow(0px 1px 2px rgba(0, 0, 0, 0.3));\n",
              "      fill: #FFFFFF;\n",
              "    }\n",
              "  </style>\n",
              "\n",
              "      <script>\n",
              "        const buttonEl =\n",
              "          document.querySelector('#df-3f4e808a-675a-4b02-95c2-f25f0a48d0f6 button.colab-df-convert');\n",
              "        buttonEl.style.display =\n",
              "          google.colab.kernel.accessAllowed ? 'block' : 'none';\n",
              "\n",
              "        async function convertToInteractive(key) {\n",
              "          const element = document.querySelector('#df-3f4e808a-675a-4b02-95c2-f25f0a48d0f6');\n",
              "          const dataTable =\n",
              "            await google.colab.kernel.invokeFunction('convertToInteractive',\n",
              "                                                     [key], {});\n",
              "          if (!dataTable) return;\n",
              "\n",
              "          const docLinkHtml = 'Like what you see? Visit the ' +\n",
              "            '<a target=\"_blank\" href=https://colab.research.google.com/notebooks/data_table.ipynb>data table notebook</a>'\n",
              "            + ' to learn more about interactive tables.';\n",
              "          element.innerHTML = '';\n",
              "          dataTable['output_type'] = 'display_data';\n",
              "          await google.colab.output.renderOutput(dataTable, element);\n",
              "          const docLink = document.createElement('div');\n",
              "          docLink.innerHTML = docLinkHtml;\n",
              "          element.appendChild(docLink);\n",
              "        }\n",
              "      </script>\n",
              "    </div>\n",
              "  </div>\n",
              "  "
            ]
          },
          "metadata": {},
          "execution_count": 4
        }
      ],
      "source": [
        "df.head()"
      ]
    },
    {
      "cell_type": "code",
      "source": [
        "df.info()"
      ],
      "metadata": {
        "colab": {
          "base_uri": "https://localhost:8080/"
        },
        "id": "Ss6UIZs7sos4",
        "outputId": "69353c64-9582-4524-9a2e-6edefd6bb0b8"
      },
      "id": "Ss6UIZs7sos4",
      "execution_count": null,
      "outputs": [
        {
          "output_type": "stream",
          "name": "stdout",
          "text": [
            "<class 'pandas.core.frame.DataFrame'>\n",
            "Int64Index: 103904 entries, 0 to 103903\n",
            "Data columns (total 24 columns):\n",
            " #   Column                             Non-Null Count   Dtype  \n",
            "---  ------                             --------------   -----  \n",
            " 0   id                                 103904 non-null  int64  \n",
            " 1   Gender                             103904 non-null  object \n",
            " 2   Customer Type                      103904 non-null  object \n",
            " 3   Age                                103904 non-null  int64  \n",
            " 4   Type of Travel                     103904 non-null  object \n",
            " 5   Class                              103904 non-null  object \n",
            " 6   Flight Distance                    103904 non-null  int64  \n",
            " 7   Inflight wifi service              103904 non-null  int64  \n",
            " 8   Departure/Arrival time convenient  103904 non-null  int64  \n",
            " 9   Ease of Online booking             103904 non-null  int64  \n",
            " 10  Gate location                      103904 non-null  int64  \n",
            " 11  Food and drink                     103904 non-null  int64  \n",
            " 12  Online boarding                    103904 non-null  int64  \n",
            " 13  Seat comfort                       103904 non-null  int64  \n",
            " 14  Inflight entertainment             103904 non-null  int64  \n",
            " 15  On-board service                   103904 non-null  int64  \n",
            " 16  Leg room service                   103904 non-null  int64  \n",
            " 17  Baggage handling                   103904 non-null  int64  \n",
            " 18  Checkin service                    103904 non-null  int64  \n",
            " 19  Inflight service                   103904 non-null  int64  \n",
            " 20  Cleanliness                        103904 non-null  int64  \n",
            " 21  Departure Delay in Minutes         103904 non-null  int64  \n",
            " 22  Arrival Delay in Minutes           103594 non-null  float64\n",
            " 23  satisfaction                       103904 non-null  object \n",
            "dtypes: float64(1), int64(18), object(5)\n",
            "memory usage: 19.8+ MB\n"
          ]
        }
      ]
    },
    {
      "cell_type": "markdown",
      "id": "a3e60438",
      "metadata": {
        "id": "a3e60438"
      },
      "source": [
        "**Задание 7 (1 балл за каждый пункт)**\n",
        "\n",
        "1. Сколько всего классов (колонка Class)?\n",
        "2. Сколько пассажиров младше 20 лет (колонка Age)?\n",
        "3. Какая доля пассажиров старше 30 и использует бизнесс-класс?\n",
        "4. Какое максимальная дистанция полета (колонка Flight Distance)?\n",
        "5. Сколько пропусков в колонке Arrival Delay in Minutes?"
      ]
    },
    {
      "cell_type": "code",
      "execution_count": null,
      "id": "0651dd7b",
      "metadata": {
        "id": "0651dd7b",
        "colab": {
          "base_uri": "https://localhost:8080/"
        },
        "outputId": "70f339f1-225d-4b73-fb0e-7a9b20949e6d"
      },
      "outputs": [
        {
          "output_type": "stream",
          "name": "stdout",
          "text": [
            "3\n"
          ]
        },
        {
          "output_type": "execute_result",
          "data": {
            "text/plain": [
              "array(['Eco Plus', 'Business', 'Eco'], dtype=object)"
            ]
          },
          "metadata": {},
          "execution_count": 7
        }
      ],
      "source": [
        "print(len(df['Class'].unique()))\n",
        "df['Class'].unique()"
      ]
    },
    {
      "cell_type": "code",
      "source": [
        "df[df['Age']<20]['id'].count()"
      ],
      "metadata": {
        "colab": {
          "base_uri": "https://localhost:8080/"
        },
        "id": "C7SETDtTyAxd",
        "outputId": "ef7a3f23-b7a9-48f3-c25e-1bfcfff6a409"
      },
      "id": "C7SETDtTyAxd",
      "execution_count": null,
      "outputs": [
        {
          "output_type": "execute_result",
          "data": {
            "text/plain": [
              "9813"
            ]
          },
          "metadata": {},
          "execution_count": 25
        }
      ]
    },
    {
      "cell_type": "markdown",
      "source": [
        "Считаем количество людей (id), удовлетворяющих условию и делим на общее количество"
      ],
      "metadata": {
        "id": "AfiLljj4x4xM"
      },
      "id": "AfiLljj4x4xM"
    },
    {
      "cell_type": "code",
      "source": [
        "df[(df['Class']=='Business') & (df['Age']>30)]['id'].count()/df['id'].count()"
      ],
      "metadata": {
        "colab": {
          "base_uri": "https://localhost:8080/"
        },
        "id": "kfvQejf6uf6P",
        "outputId": "ab5b1ec4-d166-42ab-b35e-9596768aabd2"
      },
      "id": "kfvQejf6uf6P",
      "execution_count": null,
      "outputs": [
        {
          "output_type": "execute_result",
          "data": {
            "text/plain": [
              "0.3704669695103172"
            ]
          },
          "metadata": {},
          "execution_count": 23
        }
      ]
    },
    {
      "cell_type": "code",
      "execution_count": null,
      "id": "f44f5388",
      "metadata": {
        "id": "f44f5388",
        "colab": {
          "base_uri": "https://localhost:8080/"
        },
        "outputId": "aca91335-03eb-48fd-f9ee-f882179f01de"
      },
      "outputs": [
        {
          "output_type": "execute_result",
          "data": {
            "text/plain": [
              "4983"
            ]
          },
          "metadata": {},
          "execution_count": 26
        }
      ],
      "source": [
        "df['Flight Distance'].max()"
      ]
    },
    {
      "cell_type": "code",
      "execution_count": null,
      "id": "dc150790",
      "metadata": {
        "id": "dc150790",
        "colab": {
          "base_uri": "https://localhost:8080/"
        },
        "outputId": "34583d51-f0b3-4851-c60d-ee8487727dcd"
      },
      "outputs": [
        {
          "output_type": "execute_result",
          "data": {
            "text/plain": [
              "310"
            ]
          },
          "metadata": {},
          "execution_count": 27
        }
      ],
      "source": [
        "len(df[df['Arrival Delay in Minutes'].isnull()])"
      ]
    },
    {
      "cell_type": "markdown",
      "source": [
        "Второй способ"
      ],
      "metadata": {
        "id": "Ul736qwxzj9a"
      },
      "id": "Ul736qwxzj9a"
    },
    {
      "cell_type": "code",
      "source": [
        "pd.isnull(df['Arrival Delay in Minutes']).sum()"
      ],
      "metadata": {
        "colab": {
          "base_uri": "https://localhost:8080/"
        },
        "id": "JBh_mA7xzcDo",
        "outputId": "c5cd9455-d206-494e-ccf6-b74768cb65f3"
      },
      "id": "JBh_mA7xzcDo",
      "execution_count": null,
      "outputs": [
        {
          "output_type": "execute_result",
          "data": {
            "text/plain": [
              "310"
            ]
          },
          "metadata": {},
          "execution_count": 32
        }
      ]
    },
    {
      "cell_type": "markdown",
      "id": "860d2fd0",
      "metadata": {
        "id": "860d2fd0"
      },
      "source": [
        "**Задание 8 (2 балла)**\n",
        "\n",
        "Найдите средний возраст пассажиров для каждого класса"
      ]
    },
    {
      "cell_type": "code",
      "execution_count": null,
      "id": "ac7ef517",
      "metadata": {
        "id": "ac7ef517"
      },
      "outputs": [],
      "source": [
        "# groupby \n",
        "# mean"
      ]
    },
    {
      "cell_type": "markdown",
      "source": [
        "Группируем по колонке \"Class\""
      ],
      "metadata": {
        "id": "zoqU-cw90we-"
      },
      "id": "zoqU-cw90we-"
    },
    {
      "cell_type": "code",
      "execution_count": null,
      "id": "3bd1ca72",
      "metadata": {
        "id": "3bd1ca72",
        "colab": {
          "base_uri": "https://localhost:8080/",
          "height": 175
        },
        "outputId": "fa4b413e-6dae-4dbb-d623-7619391dc3d3"
      },
      "outputs": [
        {
          "output_type": "execute_result",
          "data": {
            "text/plain": [
              "                Age\n",
              "Class              \n",
              "Business  41.574328\n",
              "Eco       37.164253\n",
              "Eco Plus  38.654524"
            ],
            "text/html": [
              "\n",
              "  <div id=\"df-f2248cb1-9553-4ab0-909f-d72113c17bf7\">\n",
              "    <div class=\"colab-df-container\">\n",
              "      <div>\n",
              "<style scoped>\n",
              "    .dataframe tbody tr th:only-of-type {\n",
              "        vertical-align: middle;\n",
              "    }\n",
              "\n",
              "    .dataframe tbody tr th {\n",
              "        vertical-align: top;\n",
              "    }\n",
              "\n",
              "    .dataframe thead th {\n",
              "        text-align: right;\n",
              "    }\n",
              "</style>\n",
              "<table border=\"1\" class=\"dataframe\">\n",
              "  <thead>\n",
              "    <tr style=\"text-align: right;\">\n",
              "      <th></th>\n",
              "      <th>Age</th>\n",
              "    </tr>\n",
              "    <tr>\n",
              "      <th>Class</th>\n",
              "      <th></th>\n",
              "    </tr>\n",
              "  </thead>\n",
              "  <tbody>\n",
              "    <tr>\n",
              "      <th>Business</th>\n",
              "      <td>41.574328</td>\n",
              "    </tr>\n",
              "    <tr>\n",
              "      <th>Eco</th>\n",
              "      <td>37.164253</td>\n",
              "    </tr>\n",
              "    <tr>\n",
              "      <th>Eco Plus</th>\n",
              "      <td>38.654524</td>\n",
              "    </tr>\n",
              "  </tbody>\n",
              "</table>\n",
              "</div>\n",
              "      <button class=\"colab-df-convert\" onclick=\"convertToInteractive('df-f2248cb1-9553-4ab0-909f-d72113c17bf7')\"\n",
              "              title=\"Convert this dataframe to an interactive table.\"\n",
              "              style=\"display:none;\">\n",
              "        \n",
              "  <svg xmlns=\"http://www.w3.org/2000/svg\" height=\"24px\"viewBox=\"0 0 24 24\"\n",
              "       width=\"24px\">\n",
              "    <path d=\"M0 0h24v24H0V0z\" fill=\"none\"/>\n",
              "    <path d=\"M18.56 5.44l.94 2.06.94-2.06 2.06-.94-2.06-.94-.94-2.06-.94 2.06-2.06.94zm-11 1L8.5 8.5l.94-2.06 2.06-.94-2.06-.94L8.5 2.5l-.94 2.06-2.06.94zm10 10l.94 2.06.94-2.06 2.06-.94-2.06-.94-.94-2.06-.94 2.06-2.06.94z\"/><path d=\"M17.41 7.96l-1.37-1.37c-.4-.4-.92-.59-1.43-.59-.52 0-1.04.2-1.43.59L10.3 9.45l-7.72 7.72c-.78.78-.78 2.05 0 2.83L4 21.41c.39.39.9.59 1.41.59.51 0 1.02-.2 1.41-.59l7.78-7.78 2.81-2.81c.8-.78.8-2.07 0-2.86zM5.41 20L4 18.59l7.72-7.72 1.47 1.35L5.41 20z\"/>\n",
              "  </svg>\n",
              "      </button>\n",
              "      \n",
              "  <style>\n",
              "    .colab-df-container {\n",
              "      display:flex;\n",
              "      flex-wrap:wrap;\n",
              "      gap: 12px;\n",
              "    }\n",
              "\n",
              "    .colab-df-convert {\n",
              "      background-color: #E8F0FE;\n",
              "      border: none;\n",
              "      border-radius: 50%;\n",
              "      cursor: pointer;\n",
              "      display: none;\n",
              "      fill: #1967D2;\n",
              "      height: 32px;\n",
              "      padding: 0 0 0 0;\n",
              "      width: 32px;\n",
              "    }\n",
              "\n",
              "    .colab-df-convert:hover {\n",
              "      background-color: #E2EBFA;\n",
              "      box-shadow: 0px 1px 2px rgba(60, 64, 67, 0.3), 0px 1px 3px 1px rgba(60, 64, 67, 0.15);\n",
              "      fill: #174EA6;\n",
              "    }\n",
              "\n",
              "    [theme=dark] .colab-df-convert {\n",
              "      background-color: #3B4455;\n",
              "      fill: #D2E3FC;\n",
              "    }\n",
              "\n",
              "    [theme=dark] .colab-df-convert:hover {\n",
              "      background-color: #434B5C;\n",
              "      box-shadow: 0px 1px 3px 1px rgba(0, 0, 0, 0.15);\n",
              "      filter: drop-shadow(0px 1px 2px rgba(0, 0, 0, 0.3));\n",
              "      fill: #FFFFFF;\n",
              "    }\n",
              "  </style>\n",
              "\n",
              "      <script>\n",
              "        const buttonEl =\n",
              "          document.querySelector('#df-f2248cb1-9553-4ab0-909f-d72113c17bf7 button.colab-df-convert');\n",
              "        buttonEl.style.display =\n",
              "          google.colab.kernel.accessAllowed ? 'block' : 'none';\n",
              "\n",
              "        async function convertToInteractive(key) {\n",
              "          const element = document.querySelector('#df-f2248cb1-9553-4ab0-909f-d72113c17bf7');\n",
              "          const dataTable =\n",
              "            await google.colab.kernel.invokeFunction('convertToInteractive',\n",
              "                                                     [key], {});\n",
              "          if (!dataTable) return;\n",
              "\n",
              "          const docLinkHtml = 'Like what you see? Visit the ' +\n",
              "            '<a target=\"_blank\" href=https://colab.research.google.com/notebooks/data_table.ipynb>data table notebook</a>'\n",
              "            + ' to learn more about interactive tables.';\n",
              "          element.innerHTML = '';\n",
              "          dataTable['output_type'] = 'display_data';\n",
              "          await google.colab.output.renderOutput(dataTable, element);\n",
              "          const docLink = document.createElement('div');\n",
              "          docLink.innerHTML = docLinkHtml;\n",
              "          element.appendChild(docLink);\n",
              "        }\n",
              "      </script>\n",
              "    </div>\n",
              "  </div>\n",
              "  "
            ]
          },
          "metadata": {},
          "execution_count": 33
        }
      ],
      "source": [
        "df.groupby(['Class'])[['Age']].mean()"
      ]
    },
    {
      "cell_type": "markdown",
      "id": "9a42b37d",
      "metadata": {
        "id": "9a42b37d"
      },
      "source": [
        "**Задание 9 (2 балла)**\n",
        "\n",
        "Для таблиц `df1` и `df2` сделайте join (используйте функцию `merge`) разных типов: left, right, outer, inner, cross"
      ]
    },
    {
      "cell_type": "code",
      "execution_count": null,
      "id": "3c51e885",
      "metadata": {
        "ExecuteTime": {
          "end_time": "2023-04-07T13:05:18.555325Z",
          "start_time": "2023-04-07T13:05:18.535348Z"
        },
        "id": "3c51e885"
      },
      "outputs": [],
      "source": [
        "import pandas as pd\n",
        "df1 = pd.DataFrame({'a': ['foo', 'bar'], 'b': [1, 2]}) \n",
        "df2 = pd.DataFrame({'a': ['foo', 'baz'], 'c': [3, 4]})"
      ]
    },
    {
      "cell_type": "code",
      "execution_count": null,
      "id": "b1e5249f",
      "metadata": {
        "id": "b1e5249f"
      },
      "outputs": [],
      "source": [
        "data_new1=df1.merge(df2, how='left', on='a')"
      ]
    },
    {
      "cell_type": "code",
      "source": [
        "data_new1"
      ],
      "metadata": {
        "colab": {
          "base_uri": "https://localhost:8080/",
          "height": 112
        },
        "id": "U2L3Ac-z2KfB",
        "outputId": "9a11702d-5d31-4bdf-8a0c-292c95854cb9"
      },
      "id": "U2L3Ac-z2KfB",
      "execution_count": null,
      "outputs": [
        {
          "output_type": "execute_result",
          "data": {
            "text/plain": [
              "     a  b    c\n",
              "0  foo  1  3.0\n",
              "1  bar  2  NaN"
            ],
            "text/html": [
              "\n",
              "  <div id=\"df-8f79af90-6aa2-46e0-a581-fae475f0b356\">\n",
              "    <div class=\"colab-df-container\">\n",
              "      <div>\n",
              "<style scoped>\n",
              "    .dataframe tbody tr th:only-of-type {\n",
              "        vertical-align: middle;\n",
              "    }\n",
              "\n",
              "    .dataframe tbody tr th {\n",
              "        vertical-align: top;\n",
              "    }\n",
              "\n",
              "    .dataframe thead th {\n",
              "        text-align: right;\n",
              "    }\n",
              "</style>\n",
              "<table border=\"1\" class=\"dataframe\">\n",
              "  <thead>\n",
              "    <tr style=\"text-align: right;\">\n",
              "      <th></th>\n",
              "      <th>a</th>\n",
              "      <th>b</th>\n",
              "      <th>c</th>\n",
              "    </tr>\n",
              "  </thead>\n",
              "  <tbody>\n",
              "    <tr>\n",
              "      <th>0</th>\n",
              "      <td>foo</td>\n",
              "      <td>1</td>\n",
              "      <td>3.0</td>\n",
              "    </tr>\n",
              "    <tr>\n",
              "      <th>1</th>\n",
              "      <td>bar</td>\n",
              "      <td>2</td>\n",
              "      <td>NaN</td>\n",
              "    </tr>\n",
              "  </tbody>\n",
              "</table>\n",
              "</div>\n",
              "      <button class=\"colab-df-convert\" onclick=\"convertToInteractive('df-8f79af90-6aa2-46e0-a581-fae475f0b356')\"\n",
              "              title=\"Convert this dataframe to an interactive table.\"\n",
              "              style=\"display:none;\">\n",
              "        \n",
              "  <svg xmlns=\"http://www.w3.org/2000/svg\" height=\"24px\"viewBox=\"0 0 24 24\"\n",
              "       width=\"24px\">\n",
              "    <path d=\"M0 0h24v24H0V0z\" fill=\"none\"/>\n",
              "    <path d=\"M18.56 5.44l.94 2.06.94-2.06 2.06-.94-2.06-.94-.94-2.06-.94 2.06-2.06.94zm-11 1L8.5 8.5l.94-2.06 2.06-.94-2.06-.94L8.5 2.5l-.94 2.06-2.06.94zm10 10l.94 2.06.94-2.06 2.06-.94-2.06-.94-.94-2.06-.94 2.06-2.06.94z\"/><path d=\"M17.41 7.96l-1.37-1.37c-.4-.4-.92-.59-1.43-.59-.52 0-1.04.2-1.43.59L10.3 9.45l-7.72 7.72c-.78.78-.78 2.05 0 2.83L4 21.41c.39.39.9.59 1.41.59.51 0 1.02-.2 1.41-.59l7.78-7.78 2.81-2.81c.8-.78.8-2.07 0-2.86zM5.41 20L4 18.59l7.72-7.72 1.47 1.35L5.41 20z\"/>\n",
              "  </svg>\n",
              "      </button>\n",
              "      \n",
              "  <style>\n",
              "    .colab-df-container {\n",
              "      display:flex;\n",
              "      flex-wrap:wrap;\n",
              "      gap: 12px;\n",
              "    }\n",
              "\n",
              "    .colab-df-convert {\n",
              "      background-color: #E8F0FE;\n",
              "      border: none;\n",
              "      border-radius: 50%;\n",
              "      cursor: pointer;\n",
              "      display: none;\n",
              "      fill: #1967D2;\n",
              "      height: 32px;\n",
              "      padding: 0 0 0 0;\n",
              "      width: 32px;\n",
              "    }\n",
              "\n",
              "    .colab-df-convert:hover {\n",
              "      background-color: #E2EBFA;\n",
              "      box-shadow: 0px 1px 2px rgba(60, 64, 67, 0.3), 0px 1px 3px 1px rgba(60, 64, 67, 0.15);\n",
              "      fill: #174EA6;\n",
              "    }\n",
              "\n",
              "    [theme=dark] .colab-df-convert {\n",
              "      background-color: #3B4455;\n",
              "      fill: #D2E3FC;\n",
              "    }\n",
              "\n",
              "    [theme=dark] .colab-df-convert:hover {\n",
              "      background-color: #434B5C;\n",
              "      box-shadow: 0px 1px 3px 1px rgba(0, 0, 0, 0.15);\n",
              "      filter: drop-shadow(0px 1px 2px rgba(0, 0, 0, 0.3));\n",
              "      fill: #FFFFFF;\n",
              "    }\n",
              "  </style>\n",
              "\n",
              "      <script>\n",
              "        const buttonEl =\n",
              "          document.querySelector('#df-8f79af90-6aa2-46e0-a581-fae475f0b356 button.colab-df-convert');\n",
              "        buttonEl.style.display =\n",
              "          google.colab.kernel.accessAllowed ? 'block' : 'none';\n",
              "\n",
              "        async function convertToInteractive(key) {\n",
              "          const element = document.querySelector('#df-8f79af90-6aa2-46e0-a581-fae475f0b356');\n",
              "          const dataTable =\n",
              "            await google.colab.kernel.invokeFunction('convertToInteractive',\n",
              "                                                     [key], {});\n",
              "          if (!dataTable) return;\n",
              "\n",
              "          const docLinkHtml = 'Like what you see? Visit the ' +\n",
              "            '<a target=\"_blank\" href=https://colab.research.google.com/notebooks/data_table.ipynb>data table notebook</a>'\n",
              "            + ' to learn more about interactive tables.';\n",
              "          element.innerHTML = '';\n",
              "          dataTable['output_type'] = 'display_data';\n",
              "          await google.colab.output.renderOutput(dataTable, element);\n",
              "          const docLink = document.createElement('div');\n",
              "          docLink.innerHTML = docLinkHtml;\n",
              "          element.appendChild(docLink);\n",
              "        }\n",
              "      </script>\n",
              "    </div>\n",
              "  </div>\n",
              "  "
            ]
          },
          "metadata": {},
          "execution_count": 4
        }
      ]
    },
    {
      "cell_type": "code",
      "source": [
        "data_new2=df1.merge(df2, how='right', on=['a'])\n",
        "data_new2"
      ],
      "metadata": {
        "colab": {
          "base_uri": "https://localhost:8080/",
          "height": 112
        },
        "id": "47hIji5m2Nns",
        "outputId": "4d9da1af-fa5f-45c6-fbb0-33f4a9ebc02b"
      },
      "id": "47hIji5m2Nns",
      "execution_count": null,
      "outputs": [
        {
          "output_type": "execute_result",
          "data": {
            "text/plain": [
              "     a    b  c\n",
              "0  foo  1.0  3\n",
              "1  baz  NaN  4"
            ],
            "text/html": [
              "\n",
              "  <div id=\"df-653e0f7f-008b-420e-9dea-a5ffb638f91f\">\n",
              "    <div class=\"colab-df-container\">\n",
              "      <div>\n",
              "<style scoped>\n",
              "    .dataframe tbody tr th:only-of-type {\n",
              "        vertical-align: middle;\n",
              "    }\n",
              "\n",
              "    .dataframe tbody tr th {\n",
              "        vertical-align: top;\n",
              "    }\n",
              "\n",
              "    .dataframe thead th {\n",
              "        text-align: right;\n",
              "    }\n",
              "</style>\n",
              "<table border=\"1\" class=\"dataframe\">\n",
              "  <thead>\n",
              "    <tr style=\"text-align: right;\">\n",
              "      <th></th>\n",
              "      <th>a</th>\n",
              "      <th>b</th>\n",
              "      <th>c</th>\n",
              "    </tr>\n",
              "  </thead>\n",
              "  <tbody>\n",
              "    <tr>\n",
              "      <th>0</th>\n",
              "      <td>foo</td>\n",
              "      <td>1.0</td>\n",
              "      <td>3</td>\n",
              "    </tr>\n",
              "    <tr>\n",
              "      <th>1</th>\n",
              "      <td>baz</td>\n",
              "      <td>NaN</td>\n",
              "      <td>4</td>\n",
              "    </tr>\n",
              "  </tbody>\n",
              "</table>\n",
              "</div>\n",
              "      <button class=\"colab-df-convert\" onclick=\"convertToInteractive('df-653e0f7f-008b-420e-9dea-a5ffb638f91f')\"\n",
              "              title=\"Convert this dataframe to an interactive table.\"\n",
              "              style=\"display:none;\">\n",
              "        \n",
              "  <svg xmlns=\"http://www.w3.org/2000/svg\" height=\"24px\"viewBox=\"0 0 24 24\"\n",
              "       width=\"24px\">\n",
              "    <path d=\"M0 0h24v24H0V0z\" fill=\"none\"/>\n",
              "    <path d=\"M18.56 5.44l.94 2.06.94-2.06 2.06-.94-2.06-.94-.94-2.06-.94 2.06-2.06.94zm-11 1L8.5 8.5l.94-2.06 2.06-.94-2.06-.94L8.5 2.5l-.94 2.06-2.06.94zm10 10l.94 2.06.94-2.06 2.06-.94-2.06-.94-.94-2.06-.94 2.06-2.06.94z\"/><path d=\"M17.41 7.96l-1.37-1.37c-.4-.4-.92-.59-1.43-.59-.52 0-1.04.2-1.43.59L10.3 9.45l-7.72 7.72c-.78.78-.78 2.05 0 2.83L4 21.41c.39.39.9.59 1.41.59.51 0 1.02-.2 1.41-.59l7.78-7.78 2.81-2.81c.8-.78.8-2.07 0-2.86zM5.41 20L4 18.59l7.72-7.72 1.47 1.35L5.41 20z\"/>\n",
              "  </svg>\n",
              "      </button>\n",
              "      \n",
              "  <style>\n",
              "    .colab-df-container {\n",
              "      display:flex;\n",
              "      flex-wrap:wrap;\n",
              "      gap: 12px;\n",
              "    }\n",
              "\n",
              "    .colab-df-convert {\n",
              "      background-color: #E8F0FE;\n",
              "      border: none;\n",
              "      border-radius: 50%;\n",
              "      cursor: pointer;\n",
              "      display: none;\n",
              "      fill: #1967D2;\n",
              "      height: 32px;\n",
              "      padding: 0 0 0 0;\n",
              "      width: 32px;\n",
              "    }\n",
              "\n",
              "    .colab-df-convert:hover {\n",
              "      background-color: #E2EBFA;\n",
              "      box-shadow: 0px 1px 2px rgba(60, 64, 67, 0.3), 0px 1px 3px 1px rgba(60, 64, 67, 0.15);\n",
              "      fill: #174EA6;\n",
              "    }\n",
              "\n",
              "    [theme=dark] .colab-df-convert {\n",
              "      background-color: #3B4455;\n",
              "      fill: #D2E3FC;\n",
              "    }\n",
              "\n",
              "    [theme=dark] .colab-df-convert:hover {\n",
              "      background-color: #434B5C;\n",
              "      box-shadow: 0px 1px 3px 1px rgba(0, 0, 0, 0.15);\n",
              "      filter: drop-shadow(0px 1px 2px rgba(0, 0, 0, 0.3));\n",
              "      fill: #FFFFFF;\n",
              "    }\n",
              "  </style>\n",
              "\n",
              "      <script>\n",
              "        const buttonEl =\n",
              "          document.querySelector('#df-653e0f7f-008b-420e-9dea-a5ffb638f91f button.colab-df-convert');\n",
              "        buttonEl.style.display =\n",
              "          google.colab.kernel.accessAllowed ? 'block' : 'none';\n",
              "\n",
              "        async function convertToInteractive(key) {\n",
              "          const element = document.querySelector('#df-653e0f7f-008b-420e-9dea-a5ffb638f91f');\n",
              "          const dataTable =\n",
              "            await google.colab.kernel.invokeFunction('convertToInteractive',\n",
              "                                                     [key], {});\n",
              "          if (!dataTable) return;\n",
              "\n",
              "          const docLinkHtml = 'Like what you see? Visit the ' +\n",
              "            '<a target=\"_blank\" href=https://colab.research.google.com/notebooks/data_table.ipynb>data table notebook</a>'\n",
              "            + ' to learn more about interactive tables.';\n",
              "          element.innerHTML = '';\n",
              "          dataTable['output_type'] = 'display_data';\n",
              "          await google.colab.output.renderOutput(dataTable, element);\n",
              "          const docLink = document.createElement('div');\n",
              "          docLink.innerHTML = docLinkHtml;\n",
              "          element.appendChild(docLink);\n",
              "        }\n",
              "      </script>\n",
              "    </div>\n",
              "  </div>\n",
              "  "
            ]
          },
          "metadata": {},
          "execution_count": 6
        }
      ]
    },
    {
      "cell_type": "code",
      "source": [
        "data_new3 = df1.merge(right=df2, how='outer', on=['a'])\n",
        "data_new3"
      ],
      "metadata": {
        "colab": {
          "base_uri": "https://localhost:8080/",
          "height": 143
        },
        "id": "IG7g0alO2dDc",
        "outputId": "78a56a2d-c4f7-471b-96d0-977c57c66502"
      },
      "id": "IG7g0alO2dDc",
      "execution_count": null,
      "outputs": [
        {
          "output_type": "execute_result",
          "data": {
            "text/plain": [
              "     a    b    c\n",
              "0  foo  1.0  3.0\n",
              "1  bar  2.0  NaN\n",
              "2  baz  NaN  4.0"
            ],
            "text/html": [
              "\n",
              "  <div id=\"df-871e1625-0755-4385-b433-c640cca33cbd\">\n",
              "    <div class=\"colab-df-container\">\n",
              "      <div>\n",
              "<style scoped>\n",
              "    .dataframe tbody tr th:only-of-type {\n",
              "        vertical-align: middle;\n",
              "    }\n",
              "\n",
              "    .dataframe tbody tr th {\n",
              "        vertical-align: top;\n",
              "    }\n",
              "\n",
              "    .dataframe thead th {\n",
              "        text-align: right;\n",
              "    }\n",
              "</style>\n",
              "<table border=\"1\" class=\"dataframe\">\n",
              "  <thead>\n",
              "    <tr style=\"text-align: right;\">\n",
              "      <th></th>\n",
              "      <th>a</th>\n",
              "      <th>b</th>\n",
              "      <th>c</th>\n",
              "    </tr>\n",
              "  </thead>\n",
              "  <tbody>\n",
              "    <tr>\n",
              "      <th>0</th>\n",
              "      <td>foo</td>\n",
              "      <td>1.0</td>\n",
              "      <td>3.0</td>\n",
              "    </tr>\n",
              "    <tr>\n",
              "      <th>1</th>\n",
              "      <td>bar</td>\n",
              "      <td>2.0</td>\n",
              "      <td>NaN</td>\n",
              "    </tr>\n",
              "    <tr>\n",
              "      <th>2</th>\n",
              "      <td>baz</td>\n",
              "      <td>NaN</td>\n",
              "      <td>4.0</td>\n",
              "    </tr>\n",
              "  </tbody>\n",
              "</table>\n",
              "</div>\n",
              "      <button class=\"colab-df-convert\" onclick=\"convertToInteractive('df-871e1625-0755-4385-b433-c640cca33cbd')\"\n",
              "              title=\"Convert this dataframe to an interactive table.\"\n",
              "              style=\"display:none;\">\n",
              "        \n",
              "  <svg xmlns=\"http://www.w3.org/2000/svg\" height=\"24px\"viewBox=\"0 0 24 24\"\n",
              "       width=\"24px\">\n",
              "    <path d=\"M0 0h24v24H0V0z\" fill=\"none\"/>\n",
              "    <path d=\"M18.56 5.44l.94 2.06.94-2.06 2.06-.94-2.06-.94-.94-2.06-.94 2.06-2.06.94zm-11 1L8.5 8.5l.94-2.06 2.06-.94-2.06-.94L8.5 2.5l-.94 2.06-2.06.94zm10 10l.94 2.06.94-2.06 2.06-.94-2.06-.94-.94-2.06-.94 2.06-2.06.94z\"/><path d=\"M17.41 7.96l-1.37-1.37c-.4-.4-.92-.59-1.43-.59-.52 0-1.04.2-1.43.59L10.3 9.45l-7.72 7.72c-.78.78-.78 2.05 0 2.83L4 21.41c.39.39.9.59 1.41.59.51 0 1.02-.2 1.41-.59l7.78-7.78 2.81-2.81c.8-.78.8-2.07 0-2.86zM5.41 20L4 18.59l7.72-7.72 1.47 1.35L5.41 20z\"/>\n",
              "  </svg>\n",
              "      </button>\n",
              "      \n",
              "  <style>\n",
              "    .colab-df-container {\n",
              "      display:flex;\n",
              "      flex-wrap:wrap;\n",
              "      gap: 12px;\n",
              "    }\n",
              "\n",
              "    .colab-df-convert {\n",
              "      background-color: #E8F0FE;\n",
              "      border: none;\n",
              "      border-radius: 50%;\n",
              "      cursor: pointer;\n",
              "      display: none;\n",
              "      fill: #1967D2;\n",
              "      height: 32px;\n",
              "      padding: 0 0 0 0;\n",
              "      width: 32px;\n",
              "    }\n",
              "\n",
              "    .colab-df-convert:hover {\n",
              "      background-color: #E2EBFA;\n",
              "      box-shadow: 0px 1px 2px rgba(60, 64, 67, 0.3), 0px 1px 3px 1px rgba(60, 64, 67, 0.15);\n",
              "      fill: #174EA6;\n",
              "    }\n",
              "\n",
              "    [theme=dark] .colab-df-convert {\n",
              "      background-color: #3B4455;\n",
              "      fill: #D2E3FC;\n",
              "    }\n",
              "\n",
              "    [theme=dark] .colab-df-convert:hover {\n",
              "      background-color: #434B5C;\n",
              "      box-shadow: 0px 1px 3px 1px rgba(0, 0, 0, 0.15);\n",
              "      filter: drop-shadow(0px 1px 2px rgba(0, 0, 0, 0.3));\n",
              "      fill: #FFFFFF;\n",
              "    }\n",
              "  </style>\n",
              "\n",
              "      <script>\n",
              "        const buttonEl =\n",
              "          document.querySelector('#df-871e1625-0755-4385-b433-c640cca33cbd button.colab-df-convert');\n",
              "        buttonEl.style.display =\n",
              "          google.colab.kernel.accessAllowed ? 'block' : 'none';\n",
              "\n",
              "        async function convertToInteractive(key) {\n",
              "          const element = document.querySelector('#df-871e1625-0755-4385-b433-c640cca33cbd');\n",
              "          const dataTable =\n",
              "            await google.colab.kernel.invokeFunction('convertToInteractive',\n",
              "                                                     [key], {});\n",
              "          if (!dataTable) return;\n",
              "\n",
              "          const docLinkHtml = 'Like what you see? Visit the ' +\n",
              "            '<a target=\"_blank\" href=https://colab.research.google.com/notebooks/data_table.ipynb>data table notebook</a>'\n",
              "            + ' to learn more about interactive tables.';\n",
              "          element.innerHTML = '';\n",
              "          dataTable['output_type'] = 'display_data';\n",
              "          await google.colab.output.renderOutput(dataTable, element);\n",
              "          const docLink = document.createElement('div');\n",
              "          docLink.innerHTML = docLinkHtml;\n",
              "          element.appendChild(docLink);\n",
              "        }\n",
              "      </script>\n",
              "    </div>\n",
              "  </div>\n",
              "  "
            ]
          },
          "metadata": {},
          "execution_count": 48
        }
      ]
    },
    {
      "cell_type": "code",
      "source": [
        "data_new4 = df1.merge(right=df2, how='inner', on=['a'])\n",
        "data_new4"
      ],
      "metadata": {
        "colab": {
          "base_uri": "https://localhost:8080/",
          "height": 81
        },
        "id": "V_2fdoEY2fTu",
        "outputId": "5286082a-e5b7-4613-ae4c-4fcc0188a80c"
      },
      "id": "V_2fdoEY2fTu",
      "execution_count": null,
      "outputs": [
        {
          "output_type": "execute_result",
          "data": {
            "text/plain": [
              "     a  b  c\n",
              "0  foo  1  3"
            ],
            "text/html": [
              "\n",
              "  <div id=\"df-c0f69dbc-a373-4518-ac63-0f83554984af\">\n",
              "    <div class=\"colab-df-container\">\n",
              "      <div>\n",
              "<style scoped>\n",
              "    .dataframe tbody tr th:only-of-type {\n",
              "        vertical-align: middle;\n",
              "    }\n",
              "\n",
              "    .dataframe tbody tr th {\n",
              "        vertical-align: top;\n",
              "    }\n",
              "\n",
              "    .dataframe thead th {\n",
              "        text-align: right;\n",
              "    }\n",
              "</style>\n",
              "<table border=\"1\" class=\"dataframe\">\n",
              "  <thead>\n",
              "    <tr style=\"text-align: right;\">\n",
              "      <th></th>\n",
              "      <th>a</th>\n",
              "      <th>b</th>\n",
              "      <th>c</th>\n",
              "    </tr>\n",
              "  </thead>\n",
              "  <tbody>\n",
              "    <tr>\n",
              "      <th>0</th>\n",
              "      <td>foo</td>\n",
              "      <td>1</td>\n",
              "      <td>3</td>\n",
              "    </tr>\n",
              "  </tbody>\n",
              "</table>\n",
              "</div>\n",
              "      <button class=\"colab-df-convert\" onclick=\"convertToInteractive('df-c0f69dbc-a373-4518-ac63-0f83554984af')\"\n",
              "              title=\"Convert this dataframe to an interactive table.\"\n",
              "              style=\"display:none;\">\n",
              "        \n",
              "  <svg xmlns=\"http://www.w3.org/2000/svg\" height=\"24px\"viewBox=\"0 0 24 24\"\n",
              "       width=\"24px\">\n",
              "    <path d=\"M0 0h24v24H0V0z\" fill=\"none\"/>\n",
              "    <path d=\"M18.56 5.44l.94 2.06.94-2.06 2.06-.94-2.06-.94-.94-2.06-.94 2.06-2.06.94zm-11 1L8.5 8.5l.94-2.06 2.06-.94-2.06-.94L8.5 2.5l-.94 2.06-2.06.94zm10 10l.94 2.06.94-2.06 2.06-.94-2.06-.94-.94-2.06-.94 2.06-2.06.94z\"/><path d=\"M17.41 7.96l-1.37-1.37c-.4-.4-.92-.59-1.43-.59-.52 0-1.04.2-1.43.59L10.3 9.45l-7.72 7.72c-.78.78-.78 2.05 0 2.83L4 21.41c.39.39.9.59 1.41.59.51 0 1.02-.2 1.41-.59l7.78-7.78 2.81-2.81c.8-.78.8-2.07 0-2.86zM5.41 20L4 18.59l7.72-7.72 1.47 1.35L5.41 20z\"/>\n",
              "  </svg>\n",
              "      </button>\n",
              "      \n",
              "  <style>\n",
              "    .colab-df-container {\n",
              "      display:flex;\n",
              "      flex-wrap:wrap;\n",
              "      gap: 12px;\n",
              "    }\n",
              "\n",
              "    .colab-df-convert {\n",
              "      background-color: #E8F0FE;\n",
              "      border: none;\n",
              "      border-radius: 50%;\n",
              "      cursor: pointer;\n",
              "      display: none;\n",
              "      fill: #1967D2;\n",
              "      height: 32px;\n",
              "      padding: 0 0 0 0;\n",
              "      width: 32px;\n",
              "    }\n",
              "\n",
              "    .colab-df-convert:hover {\n",
              "      background-color: #E2EBFA;\n",
              "      box-shadow: 0px 1px 2px rgba(60, 64, 67, 0.3), 0px 1px 3px 1px rgba(60, 64, 67, 0.15);\n",
              "      fill: #174EA6;\n",
              "    }\n",
              "\n",
              "    [theme=dark] .colab-df-convert {\n",
              "      background-color: #3B4455;\n",
              "      fill: #D2E3FC;\n",
              "    }\n",
              "\n",
              "    [theme=dark] .colab-df-convert:hover {\n",
              "      background-color: #434B5C;\n",
              "      box-shadow: 0px 1px 3px 1px rgba(0, 0, 0, 0.15);\n",
              "      filter: drop-shadow(0px 1px 2px rgba(0, 0, 0, 0.3));\n",
              "      fill: #FFFFFF;\n",
              "    }\n",
              "  </style>\n",
              "\n",
              "      <script>\n",
              "        const buttonEl =\n",
              "          document.querySelector('#df-c0f69dbc-a373-4518-ac63-0f83554984af button.colab-df-convert');\n",
              "        buttonEl.style.display =\n",
              "          google.colab.kernel.accessAllowed ? 'block' : 'none';\n",
              "\n",
              "        async function convertToInteractive(key) {\n",
              "          const element = document.querySelector('#df-c0f69dbc-a373-4518-ac63-0f83554984af');\n",
              "          const dataTable =\n",
              "            await google.colab.kernel.invokeFunction('convertToInteractive',\n",
              "                                                     [key], {});\n",
              "          if (!dataTable) return;\n",
              "\n",
              "          const docLinkHtml = 'Like what you see? Visit the ' +\n",
              "            '<a target=\"_blank\" href=https://colab.research.google.com/notebooks/data_table.ipynb>data table notebook</a>'\n",
              "            + ' to learn more about interactive tables.';\n",
              "          element.innerHTML = '';\n",
              "          dataTable['output_type'] = 'display_data';\n",
              "          await google.colab.output.renderOutput(dataTable, element);\n",
              "          const docLink = document.createElement('div');\n",
              "          docLink.innerHTML = docLinkHtml;\n",
              "          element.appendChild(docLink);\n",
              "        }\n",
              "      </script>\n",
              "    </div>\n",
              "  </div>\n",
              "  "
            ]
          },
          "metadata": {},
          "execution_count": 49
        }
      ]
    },
    {
      "cell_type": "markdown",
      "id": "05a8e00f",
      "metadata": {
        "id": "05a8e00f"
      },
      "source": [
        "**Задание 10 (1 балл)**\n",
        "\n",
        "Постройте гистограмму для колонки Customer Type таблицы `df`"
      ]
    },
    {
      "cell_type": "code",
      "execution_count": null,
      "id": "5677459c",
      "metadata": {
        "id": "5677459c"
      },
      "outputs": [],
      "source": [
        "# hist"
      ]
    },
    {
      "cell_type": "code",
      "source": [
        "df['Customer Type'].hist()"
      ],
      "metadata": {
        "colab": {
          "base_uri": "https://localhost:8080/",
          "height": 447
        },
        "id": "-40ajC4H1COQ",
        "outputId": "7ec9f76b-0577-4da0-f04b-212b467c3192"
      },
      "id": "-40ajC4H1COQ",
      "execution_count": null,
      "outputs": [
        {
          "output_type": "execute_result",
          "data": {
            "text/plain": [
              "<Axes: >"
            ]
          },
          "metadata": {},
          "execution_count": 34
        },
        {
          "output_type": "display_data",
          "data": {
            "text/plain": [
              "<Figure size 640x480 with 1 Axes>"
            ],
            "image/png": "[encoded data removed]"
          },
          "metadata": {}
        }
      ]
    }
  ],
  "metadata": {
    "kernelspec": {
      "display_name": "Python 3",
      "language": "python",
      "name": "python3"
    },
    "language_info": {
      "codemirror_mode": {
        "name": "ipython",
        "version": 3
      },
      "file_extension": ".py",
      "mimetype": "text/x-python",
      "name": "python",
      "nbconvert_exporter": "python",
      "pygments_lexer": "ipython3",
      "version": "3.8.8"
    },
    "latex_envs": {
      "LaTeX_envs_menu_present": true,
      "autoclose": false,
      "autocomplete": true,
      "bibliofile": "biblio.bib",
      "cite_by": "apalike",
      "current_citInitial": 1,
      "eqLabelWithNumbers": true,
      "eqNumInitial": 1,
      "hotkeys": {
        "equation": "Ctrl-E",
        "itemize": "Ctrl-I"
      },
      "labels_anchors": false,
      "latex_user_defs": false,
      "report_style_numbering": false,
      "user_envs_cfg": false
    },
    "toc": {
      "base_numbering": 1,
      "nav_menu": {},
      "number_sections": true,
      "sideBar": true,
      "skip_h1_title": false,
      "title_cell": "Table of Contents",
      "title_sidebar": "Contents",
      "toc_cell": false,
      "toc_position": {},
      "toc_section_display": true,
      "toc_window_display": false
    },
    "colab": {
      "provenance": [],
      "include_colab_link": true
    }
  },
  "nbformat": 4,
  "nbformat_minor": 5
}